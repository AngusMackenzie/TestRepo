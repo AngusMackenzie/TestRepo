{
 "cells": [
  {
   "cell_type": "markdown",
   "id": "de41f719-a412-425f-8d1c-ecac0b1627a3",
   "metadata": {},
   "source": [
    "# Data Science Tools\n",
    "In this notebook, Data Science Tools and Ecosystem are summarized."
   ]
  },
  {
   "cell_type": "markdown",
   "id": "e19d89c5-ccf3-4b96-8bcf-7539a12d0215",
   "metadata": {},
   "source": [
    "## Author\n",
    "Angus Mackenzie"
   ]
  },
  {
   "cell_type": "markdown",
   "id": "eef87f1d-2138-4877-9e5f-6041ea7f5064",
   "metadata": {},
   "source": [
    "**Objectives**\n",
    "- Popular Languages for Data Science\n",
    "- Common Languages for Data Science\n",
    "- Data Science Tools\n",
    "- Evaluating Arithmetic Expressions in Python"
   ]
  },
  {
   "cell_type": "markdown",
   "id": "1e373983-de94-4d96-b51e-2fe1a01e415b",
   "metadata": {},
   "source": [
    "Some of the popular languages that Data Scientists use are:\n",
    "1. Python\n",
    "2. R\n",
    "3. Julia\n",
    "4. C++\n",
    "5. SQL\n",
    "6. Java\n"
   ]
  },
  {
   "cell_type": "markdown",
   "id": "7e6c9402-cd9f-4a9e-a423-0c55fda88176",
   "metadata": {},
   "source": [
    "Some of the commonly used libraries used by Data Scientists include:\n",
    "1. NumPy\n",
    "2. Pandas\n",
    "3. Matplotlib\n",
    "4. dplyr\n",
    "5. ggplot\n"
   ]
  },
  {
   "cell_type": "markdown",
   "id": "e0164c60-37db-4630-a4ff-e5429ddcc446",
   "metadata": {},
   "source": [
    "| Data Science Tools |\n",
    "|--------------------|\n",
    "|Programming Languages|\n",
    "|Integrated Development Enviroments|\n",
    "|Web Frameworks|\n",
    "|Big Data Platforms|"
   ]
  },
  {
   "cell_type": "markdown",
   "id": "95222dc4-279a-4111-967a-6ac32fa26ede",
   "metadata": {},
   "source": [
    "### Below are a few examples of evaluating arithmetic expressions in Python."
   ]
  },
  {
   "cell_type": "code",
   "execution_count": 27,
   "id": "386845e4-8a87-4b95-ba74-862ff531ec47",
   "metadata": {},
   "outputs": [
    {
     "data": {
      "text/plain": [
       "17"
      ]
     },
     "execution_count": 27,
     "metadata": {},
     "output_type": "execute_result"
    }
   ],
   "source": [
    "## This a simple arithmetic expression to mutiply then add integers\n",
    "(3*4)+5"
   ]
  },
  {
   "cell_type": "code",
   "execution_count": 28,
   "id": "286d6400-64a3-4d65-9795-f99c21ccbc9c",
   "metadata": {},
   "outputs": [
    {
     "data": {
      "text/plain": [
       "3.3333333333333335"
      ]
     },
     "execution_count": 28,
     "metadata": {},
     "output_type": "execute_result"
    }
   ],
   "source": [
    "## This will convert 200 minutes to hours by diving by 60\n",
    "200/60"
   ]
  }
 ],
 "metadata": {
  "kernelspec": {
   "display_name": "Python [conda env:base] *",
   "language": "python",
   "name": "conda-base-py"
  },
  "language_info": {
   "codemirror_mode": {
    "name": "ipython",
    "version": 3
   },
   "file_extension": ".py",
   "mimetype": "text/x-python",
   "name": "python",
   "nbconvert_exporter": "python",
   "pygments_lexer": "ipython3",
   "version": "3.12.7"
  }
 },
 "nbformat": 4,
 "nbformat_minor": 5
}
